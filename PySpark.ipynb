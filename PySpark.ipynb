{
  "nbformat": 4,
  "nbformat_minor": 0,
  "metadata": {
    "colab": {
      "name": "PySpark",
      "provenance": [],
      "authorship_tag": "ABX9TyMWydXz+HfeVUOmO/KMY1JD",
      "include_colab_link": true
    },
    "kernelspec": {
      "name": "python3",
      "display_name": "Python 3"
    },
    "language_info": {
      "name": "python"
    }
  },
  "cells": [
    {
      "cell_type": "markdown",
      "metadata": {
        "id": "view-in-github",
        "colab_type": "text"
      },
      "source": [
        "<a href=\"https://colab.research.google.com/github/Aman-K-Sharma/PySpark/blob/main/PySpark.ipynb\" target=\"_parent\"><img src=\"https://colab.research.google.com/assets/colab-badge.svg\" alt=\"Open In Colab\"/></a>"
      ]
    },
    {
      "cell_type": "code",
      "metadata": {
        "colab": {
          "base_uri": "https://localhost:8080/"
        },
        "id": "6fm5VRP86rRu",
        "outputId": "4332a3fe-34fa-49c6-e67e-c0fda8b2a97e"
      },
      "source": [
        "#intalling spark module in python, needed to be done only first time\n",
        "!pip install pyspark"
      ],
      "execution_count": 1,
      "outputs": [
        {
          "output_type": "stream",
          "name": "stdout",
          "text": [
            "Collecting pyspark\n",
            "  Downloading pyspark-3.2.0.tar.gz (281.3 MB)\n",
            "\u001b[K     |████████████████████████████████| 281.3 MB 38 kB/s \n",
            "\u001b[?25hCollecting py4j==0.10.9.2\n",
            "  Downloading py4j-0.10.9.2-py2.py3-none-any.whl (198 kB)\n",
            "\u001b[K     |████████████████████████████████| 198 kB 34.4 MB/s \n",
            "\u001b[?25hBuilding wheels for collected packages: pyspark\n",
            "  Building wheel for pyspark (setup.py) ... \u001b[?25l\u001b[?25hdone\n",
            "  Created wheel for pyspark: filename=pyspark-3.2.0-py2.py3-none-any.whl size=281805912 sha256=d58e42db0e032668a65b4531735a0d9a09a6aedae0d6cd95872a6dad4277fbc5\n",
            "  Stored in directory: /root/.cache/pip/wheels/0b/de/d2/9be5d59d7331c6c2a7c1b6d1a4f463ce107332b1ecd4e80718\n",
            "Successfully built pyspark\n",
            "Installing collected packages: py4j, pyspark\n",
            "Successfully installed py4j-0.10.9.2 pyspark-3.2.0\n"
          ]
        }
      ]
    },
    {
      "cell_type": "code",
      "metadata": {
        "id": "Y9cODI3h66wE"
      },
      "source": [
        "#checking for successful installation of spark module\n",
        "import pyspark"
      ],
      "execution_count": 2,
      "outputs": []
    },
    {
      "cell_type": "code",
      "metadata": {
        "id": "VW7AtxNA7N0M"
      },
      "source": [
        "#need to make a spark session to work with spark\n",
        "from pyspark.sql import SparkSession"
      ],
      "execution_count": 3,
      "outputs": []
    },
    {
      "cell_type": "code",
      "metadata": {
        "id": "eApRHrke7Xiy"
      },
      "source": [
        "#creating a spark session\n",
        "spark=SparkSession.builder.appName('Practice').getOrCreate()"
      ],
      "execution_count": 4,
      "outputs": []
    },
    {
      "cell_type": "code",
      "metadata": {
        "colab": {
          "base_uri": "https://localhost:8080/",
          "height": 219
        },
        "id": "g45oVPHe70fz",
        "outputId": "3eedda89-b558-462a-ec38-49153d05b3c4"
      },
      "source": [
        "spark"
      ],
      "execution_count": 5,
      "outputs": [
        {
          "output_type": "execute_result",
          "data": {
            "text/html": [
              "\n",
              "            <div>\n",
              "                <p><b>SparkSession - in-memory</b></p>\n",
              "                \n",
              "        <div>\n",
              "            <p><b>SparkContext</b></p>\n",
              "\n",
              "            <p><a href=\"http://34a95ac8c065:4040\">Spark UI</a></p>\n",
              "\n",
              "            <dl>\n",
              "              <dt>Version</dt>\n",
              "                <dd><code>v3.2.0</code></dd>\n",
              "              <dt>Master</dt>\n",
              "                <dd><code>local[*]</code></dd>\n",
              "              <dt>AppName</dt>\n",
              "                <dd><code>Practice</code></dd>\n",
              "            </dl>\n",
              "        </div>\n",
              "        \n",
              "            </div>\n",
              "        "
            ],
            "text/plain": [
              "<pyspark.sql.session.SparkSession at 0x7f8edcbd2210>"
            ]
          },
          "metadata": {},
          "execution_count": 5
        }
      ]
    },
    {
      "cell_type": "code",
      "metadata": {
        "id": "-LLNuWo475fB"
      },
      "source": [
        "#reading data with spark module\n",
        "#header true to refer 1st row as column name, inferSchema for actual datatype of each column\n",
        "df=spark.read.csv('/content/sample_data/california_housing_train.csv',header=True,inferSchema=True)"
      ],
      "execution_count": 6,
      "outputs": []
    },
    {
      "cell_type": "code",
      "metadata": {
        "colab": {
          "base_uri": "https://localhost:8080/"
        },
        "id": "X6xHrAQ79Osn",
        "outputId": "d8a09626-c237-4082-b7d1-fa6d892974dc"
      },
      "source": [
        "#printing dataset,by default will show 20 rows\n",
        "df.show()"
      ],
      "execution_count": 7,
      "outputs": [
        {
          "output_type": "stream",
          "name": "stdout",
          "text": [
            "+---------+--------+------------------+-----------+--------------+----------+----------+-------------+------------------+\n",
            "|longitude|latitude|housing_median_age|total_rooms|total_bedrooms|population|households|median_income|median_house_value|\n",
            "+---------+--------+------------------+-----------+--------------+----------+----------+-------------+------------------+\n",
            "|  -114.31|   34.19|              15.0|     5612.0|        1283.0|    1015.0|     472.0|       1.4936|           66900.0|\n",
            "|  -114.47|    34.4|              19.0|     7650.0|        1901.0|    1129.0|     463.0|         1.82|           80100.0|\n",
            "|  -114.56|   33.69|              17.0|      720.0|         174.0|     333.0|     117.0|       1.6509|           85700.0|\n",
            "|  -114.57|   33.64|              14.0|     1501.0|         337.0|     515.0|     226.0|       3.1917|           73400.0|\n",
            "|  -114.57|   33.57|              20.0|     1454.0|         326.0|     624.0|     262.0|        1.925|           65500.0|\n",
            "|  -114.58|   33.63|              29.0|     1387.0|         236.0|     671.0|     239.0|       3.3438|           74000.0|\n",
            "|  -114.58|   33.61|              25.0|     2907.0|         680.0|    1841.0|     633.0|       2.6768|           82400.0|\n",
            "|  -114.59|   34.83|              41.0|      812.0|         168.0|     375.0|     158.0|       1.7083|           48500.0|\n",
            "|  -114.59|   33.61|              34.0|     4789.0|        1175.0|    3134.0|    1056.0|       2.1782|           58400.0|\n",
            "|   -114.6|   34.83|              46.0|     1497.0|         309.0|     787.0|     271.0|       2.1908|           48100.0|\n",
            "|   -114.6|   33.62|              16.0|     3741.0|         801.0|    2434.0|     824.0|       2.6797|           86500.0|\n",
            "|   -114.6|    33.6|              21.0|     1988.0|         483.0|    1182.0|     437.0|        1.625|           62000.0|\n",
            "|  -114.61|   34.84|              48.0|     1291.0|         248.0|     580.0|     211.0|       2.1571|           48600.0|\n",
            "|  -114.61|   34.83|              31.0|     2478.0|         464.0|    1346.0|     479.0|        3.212|           70400.0|\n",
            "|  -114.63|   32.76|              15.0|     1448.0|         378.0|     949.0|     300.0|       0.8585|           45000.0|\n",
            "|  -114.65|   34.89|              17.0|     2556.0|         587.0|    1005.0|     401.0|       1.6991|           69100.0|\n",
            "|  -114.65|    33.6|              28.0|     1678.0|         322.0|     666.0|     256.0|       2.9653|           94900.0|\n",
            "|  -114.65|   32.79|              21.0|       44.0|          33.0|      64.0|      27.0|       0.8571|           25000.0|\n",
            "|  -114.66|   32.74|              17.0|     1388.0|         386.0|     775.0|     320.0|       1.2049|           44000.0|\n",
            "|  -114.67|   33.92|              17.0|       97.0|          24.0|      29.0|      15.0|       1.2656|           27500.0|\n",
            "+---------+--------+------------------+-----------+--------------+----------+----------+-------------+------------------+\n",
            "only showing top 20 rows\n",
            "\n"
          ]
        }
      ]
    },
    {
      "cell_type": "code",
      "metadata": {
        "colab": {
          "base_uri": "https://localhost:8080/"
        },
        "id": "AwSG1QKG9WI6",
        "outputId": "d76cd709-70de-45b2-cd26-306351194548"
      },
      "source": [
        "#checking the type of data\n",
        "type(df)"
      ],
      "execution_count": 8,
      "outputs": [
        {
          "output_type": "execute_result",
          "data": {
            "text/plain": [
              "pyspark.sql.dataframe.DataFrame"
            ]
          },
          "metadata": {},
          "execution_count": 8
        }
      ]
    },
    {
      "cell_type": "code",
      "metadata": {
        "colab": {
          "base_uri": "https://localhost:8080/"
        },
        "id": "bzl_WLBm-bD9",
        "outputId": "03783f4b-c4b3-4efc-90ed-596f5c133751"
      },
      "source": [
        "#checking  data info\n",
        "df.printSchema()"
      ],
      "execution_count": 9,
      "outputs": [
        {
          "output_type": "stream",
          "name": "stdout",
          "text": [
            "root\n",
            " |-- longitude: double (nullable = true)\n",
            " |-- latitude: double (nullable = true)\n",
            " |-- housing_median_age: double (nullable = true)\n",
            " |-- total_rooms: double (nullable = true)\n",
            " |-- total_bedrooms: double (nullable = true)\n",
            " |-- population: double (nullable = true)\n",
            " |-- households: double (nullable = true)\n",
            " |-- median_income: double (nullable = true)\n",
            " |-- median_house_value: double (nullable = true)\n",
            "\n"
          ]
        }
      ]
    },
    {
      "cell_type": "code",
      "metadata": {
        "colab": {
          "base_uri": "https://localhost:8080/"
        },
        "id": "rJ3i1IXE-sIc",
        "outputId": "6d02cd19-e64d-4b6b-bfb3-ecd3dec8ae8b"
      },
      "source": [
        "#all columns present in data\n",
        "df.columns"
      ],
      "execution_count": 10,
      "outputs": [
        {
          "output_type": "execute_result",
          "data": {
            "text/plain": [
              "['longitude',\n",
              " 'latitude',\n",
              " 'housing_median_age',\n",
              " 'total_rooms',\n",
              " 'total_bedrooms',\n",
              " 'population',\n",
              " 'households',\n",
              " 'median_income',\n",
              " 'median_house_value']"
            ]
          },
          "metadata": {},
          "execution_count": 10
        }
      ]
    },
    {
      "cell_type": "code",
      "metadata": {
        "colab": {
          "base_uri": "https://localhost:8080/"
        },
        "id": "j6Uws034BE5b",
        "outputId": "e941d438-3e74-408f-dbf3-b14c17ba3bfa"
      },
      "source": [
        "#selecting top n rows in data\n",
        "df.head(5)"
      ],
      "execution_count": 11,
      "outputs": [
        {
          "output_type": "execute_result",
          "data": {
            "text/plain": [
              "[Row(longitude=-114.31, latitude=34.19, housing_median_age=15.0, total_rooms=5612.0, total_bedrooms=1283.0, population=1015.0, households=472.0, median_income=1.4936, median_house_value=66900.0),\n",
              " Row(longitude=-114.47, latitude=34.4, housing_median_age=19.0, total_rooms=7650.0, total_bedrooms=1901.0, population=1129.0, households=463.0, median_income=1.82, median_house_value=80100.0),\n",
              " Row(longitude=-114.56, latitude=33.69, housing_median_age=17.0, total_rooms=720.0, total_bedrooms=174.0, population=333.0, households=117.0, median_income=1.6509, median_house_value=85700.0),\n",
              " Row(longitude=-114.57, latitude=33.64, housing_median_age=14.0, total_rooms=1501.0, total_bedrooms=337.0, population=515.0, households=226.0, median_income=3.1917, median_house_value=73400.0),\n",
              " Row(longitude=-114.57, latitude=33.57, housing_median_age=20.0, total_rooms=1454.0, total_bedrooms=326.0, population=624.0, households=262.0, median_income=1.925, median_house_value=65500.0)]"
            ]
          },
          "metadata": {},
          "execution_count": 11
        }
      ]
    },
    {
      "cell_type": "code",
      "metadata": {
        "colab": {
          "base_uri": "https://localhost:8080/"
        },
        "id": "M02x_FdoBffj",
        "outputId": "0740a7b7-604c-471f-d821-1da6b84aa49e"
      },
      "source": [
        "#selecting bottom n rows in data\n",
        "df.tail(5)"
      ],
      "execution_count": 12,
      "outputs": [
        {
          "output_type": "execute_result",
          "data": {
            "text/plain": [
              "[Row(longitude=-124.26, latitude=40.58, housing_median_age=52.0, total_rooms=2217.0, total_bedrooms=394.0, population=907.0, households=369.0, median_income=2.3571, median_house_value=111400.0),\n",
              " Row(longitude=-124.27, latitude=40.69, housing_median_age=36.0, total_rooms=2349.0, total_bedrooms=528.0, population=1194.0, households=465.0, median_income=2.5179, median_house_value=79000.0),\n",
              " Row(longitude=-124.3, latitude=41.84, housing_median_age=17.0, total_rooms=2677.0, total_bedrooms=531.0, population=1244.0, households=456.0, median_income=3.0313, median_house_value=103600.0),\n",
              " Row(longitude=-124.3, latitude=41.8, housing_median_age=19.0, total_rooms=2672.0, total_bedrooms=552.0, population=1298.0, households=478.0, median_income=1.9797, median_house_value=85800.0),\n",
              " Row(longitude=-124.35, latitude=40.54, housing_median_age=52.0, total_rooms=1820.0, total_bedrooms=300.0, population=806.0, households=270.0, median_income=3.0147, median_house_value=94600.0)]"
            ]
          },
          "metadata": {},
          "execution_count": 12
        }
      ]
    },
    {
      "cell_type": "code",
      "metadata": {
        "colab": {
          "base_uri": "https://localhost:8080/"
        },
        "id": "sKshQfLXBjGi",
        "outputId": "b10c1dc2-777e-4773-fa19-e5f924581725"
      },
      "source": [
        "# selecting a specific columns from data\n",
        "df.select('housing_median_age').show()"
      ],
      "execution_count": 13,
      "outputs": [
        {
          "output_type": "stream",
          "name": "stdout",
          "text": [
            "+------------------+\n",
            "|housing_median_age|\n",
            "+------------------+\n",
            "|              15.0|\n",
            "|              19.0|\n",
            "|              17.0|\n",
            "|              14.0|\n",
            "|              20.0|\n",
            "|              29.0|\n",
            "|              25.0|\n",
            "|              41.0|\n",
            "|              34.0|\n",
            "|              46.0|\n",
            "|              16.0|\n",
            "|              21.0|\n",
            "|              48.0|\n",
            "|              31.0|\n",
            "|              15.0|\n",
            "|              17.0|\n",
            "|              28.0|\n",
            "|              21.0|\n",
            "|              17.0|\n",
            "|              17.0|\n",
            "+------------------+\n",
            "only showing top 20 rows\n",
            "\n"
          ]
        }
      ]
    },
    {
      "cell_type": "code",
      "metadata": {
        "colab": {
          "base_uri": "https://localhost:8080/"
        },
        "id": "CS34XLNlB7w9",
        "outputId": "449bd03b-ba57-4571-c2cc-dce9e10b568e"
      },
      "source": [
        "#selecting multiple columns, pass columns names in list\n",
        "df.select(['housing_median_age','median_house_value']).show()"
      ],
      "execution_count": 14,
      "outputs": [
        {
          "output_type": "stream",
          "name": "stdout",
          "text": [
            "+------------------+------------------+\n",
            "|housing_median_age|median_house_value|\n",
            "+------------------+------------------+\n",
            "|              15.0|           66900.0|\n",
            "|              19.0|           80100.0|\n",
            "|              17.0|           85700.0|\n",
            "|              14.0|           73400.0|\n",
            "|              20.0|           65500.0|\n",
            "|              29.0|           74000.0|\n",
            "|              25.0|           82400.0|\n",
            "|              41.0|           48500.0|\n",
            "|              34.0|           58400.0|\n",
            "|              46.0|           48100.0|\n",
            "|              16.0|           86500.0|\n",
            "|              21.0|           62000.0|\n",
            "|              48.0|           48600.0|\n",
            "|              31.0|           70400.0|\n",
            "|              15.0|           45000.0|\n",
            "|              17.0|           69100.0|\n",
            "|              28.0|           94900.0|\n",
            "|              21.0|           25000.0|\n",
            "|              17.0|           44000.0|\n",
            "|              17.0|           27500.0|\n",
            "+------------------+------------------+\n",
            "only showing top 20 rows\n",
            "\n"
          ]
        }
      ]
    },
    {
      "cell_type": "code",
      "metadata": {
        "colab": {
          "base_uri": "https://localhost:8080/"
        },
        "id": "6XIBWaPZClvm",
        "outputId": "043937f9-32e7-4d89-8bd7-fdb31f51fa6e"
      },
      "source": [
        "#checking data type of each columns\n",
        "df.dtypes"
      ],
      "execution_count": 15,
      "outputs": [
        {
          "output_type": "execute_result",
          "data": {
            "text/plain": [
              "[('longitude', 'double'),\n",
              " ('latitude', 'double'),\n",
              " ('housing_median_age', 'double'),\n",
              " ('total_rooms', 'double'),\n",
              " ('total_bedrooms', 'double'),\n",
              " ('population', 'double'),\n",
              " ('households', 'double'),\n",
              " ('median_income', 'double'),\n",
              " ('median_house_value', 'double')]"
            ]
          },
          "metadata": {},
          "execution_count": 15
        }
      ]
    },
    {
      "cell_type": "code",
      "metadata": {
        "colab": {
          "base_uri": "https://localhost:8080/"
        },
        "id": "mkLaGSs6DA0I",
        "outputId": "905fdb06-561b-4bd1-b09f-960a9f030b66"
      },
      "source": [
        "#descriptive summary\n",
        "df.describe().show()"
      ],
      "execution_count": 16,
      "outputs": [
        {
          "output_type": "stream",
          "name": "stdout",
          "text": [
            "+-------+-------------------+------------------+------------------+-----------------+-----------------+------------------+-----------------+------------------+------------------+\n",
            "|summary|          longitude|          latitude|housing_median_age|      total_rooms|   total_bedrooms|        population|       households|     median_income|median_house_value|\n",
            "+-------+-------------------+------------------+------------------+-----------------+-----------------+------------------+-----------------+------------------+------------------+\n",
            "|  count|              17000|             17000|             17000|            17000|            17000|             17000|            17000|             17000|             17000|\n",
            "|   mean|-119.56210823529375|  35.6252247058827| 28.58935294117647|2643.664411764706|539.4108235294118|1429.5739411764705|501.2219411764706| 3.883578100000021|207300.91235294117|\n",
            "| stddev| 2.0051664084260357|2.1373397946570867|12.586936981660406|2179.947071452777|421.4994515798648| 1147.852959159527|384.5208408559016|1.9081565183791036|115983.76438720895|\n",
            "|    min|            -124.35|             32.54|               1.0|              2.0|              1.0|               3.0|              1.0|            0.4999|           14999.0|\n",
            "|    max|            -114.31|             41.95|              52.0|          37937.0|           6445.0|           35682.0|           6082.0|           15.0001|          500001.0|\n",
            "+-------+-------------------+------------------+------------------+-----------------+-----------------+------------------+-----------------+------------------+------------------+\n",
            "\n"
          ]
        }
      ]
    },
    {
      "cell_type": "code",
      "metadata": {
        "colab": {
          "base_uri": "https://localhost:8080/"
        },
        "id": "_9pEyP3sDSmh",
        "outputId": "e54ee5c3-0cd6-476b-8b84-f91ecea85a78"
      },
      "source": [
        "#adding column in data\n",
        "df=df.withColumn('years of income',df['median_house_value']/df['median_income'])\n",
        "df.show()"
      ],
      "execution_count": 17,
      "outputs": [
        {
          "output_type": "stream",
          "name": "stdout",
          "text": [
            "+---------+--------+------------------+-----------+--------------+----------+----------+-------------+------------------+------------------+\n",
            "|longitude|latitude|housing_median_age|total_rooms|total_bedrooms|population|households|median_income|median_house_value|   years of income|\n",
            "+---------+--------+------------------+-----------+--------------+----------+----------+-------------+------------------+------------------+\n",
            "|  -114.31|   34.19|              15.0|     5612.0|        1283.0|    1015.0|     472.0|       1.4936|           66900.0| 44791.10873058382|\n",
            "|  -114.47|    34.4|              19.0|     7650.0|        1901.0|    1129.0|     463.0|         1.82|           80100.0| 44010.98901098901|\n",
            "|  -114.56|   33.69|              17.0|      720.0|         174.0|     333.0|     117.0|       1.6509|           85700.0| 51911.07880550003|\n",
            "|  -114.57|   33.64|              14.0|     1501.0|         337.0|     515.0|     226.0|       3.1917|           73400.0|22997.148854842246|\n",
            "|  -114.57|   33.57|              20.0|     1454.0|         326.0|     624.0|     262.0|        1.925|           65500.0| 34025.97402597403|\n",
            "|  -114.58|   33.63|              29.0|     1387.0|         236.0|     671.0|     239.0|       3.3438|           74000.0| 22130.51019797835|\n",
            "|  -114.58|   33.61|              25.0|     2907.0|         680.0|    1841.0|     633.0|       2.6768|           82400.0|30783.024506873877|\n",
            "|  -114.59|   34.83|              41.0|      812.0|         168.0|     375.0|     158.0|       1.7083|           48500.0|28390.797869226717|\n",
            "|  -114.59|   33.61|              34.0|     4789.0|        1175.0|    3134.0|    1056.0|       2.1782|           58400.0|26811.128454687358|\n",
            "|   -114.6|   34.83|              46.0|     1497.0|         309.0|     787.0|     271.0|       2.1908|           48100.0|21955.450063903598|\n",
            "|   -114.6|   33.62|              16.0|     3741.0|         801.0|    2434.0|     824.0|       2.6797|           86500.0| 32279.73280591111|\n",
            "|   -114.6|    33.6|              21.0|     1988.0|         483.0|    1182.0|     437.0|        1.625|           62000.0|38153.846153846156|\n",
            "|  -114.61|   34.84|              48.0|     1291.0|         248.0|     580.0|     211.0|       2.1571|           48600.0|22530.248945343286|\n",
            "|  -114.61|   34.83|              31.0|     2478.0|         464.0|    1346.0|     479.0|        3.212|           70400.0| 21917.80821917808|\n",
            "|  -114.63|   32.76|              15.0|     1448.0|         378.0|     949.0|     300.0|       0.8585|           45000.0|   52417.006406523|\n",
            "|  -114.65|   34.89|              17.0|     2556.0|         587.0|    1005.0|     401.0|       1.6991|           69100.0|40668.589253134014|\n",
            "|  -114.65|    33.6|              28.0|     1678.0|         322.0|     666.0|     256.0|       2.9653|           94900.0|32003.507233669443|\n",
            "|  -114.65|   32.79|              21.0|       44.0|          33.0|      64.0|      27.0|       0.8571|           25000.0|29168.125072920313|\n",
            "|  -114.66|   32.74|              17.0|     1388.0|         386.0|     775.0|     320.0|       1.2049|           44000.0| 36517.55332392729|\n",
            "|  -114.67|   33.92|              17.0|       97.0|          24.0|      29.0|      15.0|       1.2656|           27500.0| 21728.82427307206|\n",
            "+---------+--------+------------------+-----------+--------------+----------+----------+-------------+------------------+------------------+\n",
            "only showing top 20 rows\n",
            "\n"
          ]
        }
      ]
    },
    {
      "cell_type": "code",
      "metadata": {
        "colab": {
          "base_uri": "https://localhost:8080/"
        },
        "id": "_io8_AFQDdRK",
        "outputId": "a6efb7ac-ffd3-473b-fde7-5d553925116b"
      },
      "source": [
        "#dropping the columns\n",
        "df=df.drop('years of income')\n",
        "df.show()"
      ],
      "execution_count": 18,
      "outputs": [
        {
          "output_type": "stream",
          "name": "stdout",
          "text": [
            "+---------+--------+------------------+-----------+--------------+----------+----------+-------------+------------------+\n",
            "|longitude|latitude|housing_median_age|total_rooms|total_bedrooms|population|households|median_income|median_house_value|\n",
            "+---------+--------+------------------+-----------+--------------+----------+----------+-------------+------------------+\n",
            "|  -114.31|   34.19|              15.0|     5612.0|        1283.0|    1015.0|     472.0|       1.4936|           66900.0|\n",
            "|  -114.47|    34.4|              19.0|     7650.0|        1901.0|    1129.0|     463.0|         1.82|           80100.0|\n",
            "|  -114.56|   33.69|              17.0|      720.0|         174.0|     333.0|     117.0|       1.6509|           85700.0|\n",
            "|  -114.57|   33.64|              14.0|     1501.0|         337.0|     515.0|     226.0|       3.1917|           73400.0|\n",
            "|  -114.57|   33.57|              20.0|     1454.0|         326.0|     624.0|     262.0|        1.925|           65500.0|\n",
            "|  -114.58|   33.63|              29.0|     1387.0|         236.0|     671.0|     239.0|       3.3438|           74000.0|\n",
            "|  -114.58|   33.61|              25.0|     2907.0|         680.0|    1841.0|     633.0|       2.6768|           82400.0|\n",
            "|  -114.59|   34.83|              41.0|      812.0|         168.0|     375.0|     158.0|       1.7083|           48500.0|\n",
            "|  -114.59|   33.61|              34.0|     4789.0|        1175.0|    3134.0|    1056.0|       2.1782|           58400.0|\n",
            "|   -114.6|   34.83|              46.0|     1497.0|         309.0|     787.0|     271.0|       2.1908|           48100.0|\n",
            "|   -114.6|   33.62|              16.0|     3741.0|         801.0|    2434.0|     824.0|       2.6797|           86500.0|\n",
            "|   -114.6|    33.6|              21.0|     1988.0|         483.0|    1182.0|     437.0|        1.625|           62000.0|\n",
            "|  -114.61|   34.84|              48.0|     1291.0|         248.0|     580.0|     211.0|       2.1571|           48600.0|\n",
            "|  -114.61|   34.83|              31.0|     2478.0|         464.0|    1346.0|     479.0|        3.212|           70400.0|\n",
            "|  -114.63|   32.76|              15.0|     1448.0|         378.0|     949.0|     300.0|       0.8585|           45000.0|\n",
            "|  -114.65|   34.89|              17.0|     2556.0|         587.0|    1005.0|     401.0|       1.6991|           69100.0|\n",
            "|  -114.65|    33.6|              28.0|     1678.0|         322.0|     666.0|     256.0|       2.9653|           94900.0|\n",
            "|  -114.65|   32.79|              21.0|       44.0|          33.0|      64.0|      27.0|       0.8571|           25000.0|\n",
            "|  -114.66|   32.74|              17.0|     1388.0|         386.0|     775.0|     320.0|       1.2049|           44000.0|\n",
            "|  -114.67|   33.92|              17.0|       97.0|          24.0|      29.0|      15.0|       1.2656|           27500.0|\n",
            "+---------+--------+------------------+-----------+--------------+----------+----------+-------------+------------------+\n",
            "only showing top 20 rows\n",
            "\n"
          ]
        }
      ]
    },
    {
      "cell_type": "code",
      "metadata": {
        "colab": {
          "base_uri": "https://localhost:8080/"
        },
        "id": "jrpnSo0CDdTk",
        "outputId": "b6f0d379-234d-4748-a152-b85ad7baeb18"
      },
      "source": [
        "#renaming a columns\n",
        "df=df.withColumnRenamed('housing_median_age','median_house_age')\n",
        "df.show()"
      ],
      "execution_count": 19,
      "outputs": [
        {
          "output_type": "stream",
          "name": "stdout",
          "text": [
            "+---------+--------+----------------+-----------+--------------+----------+----------+-------------+------------------+\n",
            "|longitude|latitude|median_house_age|total_rooms|total_bedrooms|population|households|median_income|median_house_value|\n",
            "+---------+--------+----------------+-----------+--------------+----------+----------+-------------+------------------+\n",
            "|  -114.31|   34.19|            15.0|     5612.0|        1283.0|    1015.0|     472.0|       1.4936|           66900.0|\n",
            "|  -114.47|    34.4|            19.0|     7650.0|        1901.0|    1129.0|     463.0|         1.82|           80100.0|\n",
            "|  -114.56|   33.69|            17.0|      720.0|         174.0|     333.0|     117.0|       1.6509|           85700.0|\n",
            "|  -114.57|   33.64|            14.0|     1501.0|         337.0|     515.0|     226.0|       3.1917|           73400.0|\n",
            "|  -114.57|   33.57|            20.0|     1454.0|         326.0|     624.0|     262.0|        1.925|           65500.0|\n",
            "|  -114.58|   33.63|            29.0|     1387.0|         236.0|     671.0|     239.0|       3.3438|           74000.0|\n",
            "|  -114.58|   33.61|            25.0|     2907.0|         680.0|    1841.0|     633.0|       2.6768|           82400.0|\n",
            "|  -114.59|   34.83|            41.0|      812.0|         168.0|     375.0|     158.0|       1.7083|           48500.0|\n",
            "|  -114.59|   33.61|            34.0|     4789.0|        1175.0|    3134.0|    1056.0|       2.1782|           58400.0|\n",
            "|   -114.6|   34.83|            46.0|     1497.0|         309.0|     787.0|     271.0|       2.1908|           48100.0|\n",
            "|   -114.6|   33.62|            16.0|     3741.0|         801.0|    2434.0|     824.0|       2.6797|           86500.0|\n",
            "|   -114.6|    33.6|            21.0|     1988.0|         483.0|    1182.0|     437.0|        1.625|           62000.0|\n",
            "|  -114.61|   34.84|            48.0|     1291.0|         248.0|     580.0|     211.0|       2.1571|           48600.0|\n",
            "|  -114.61|   34.83|            31.0|     2478.0|         464.0|    1346.0|     479.0|        3.212|           70400.0|\n",
            "|  -114.63|   32.76|            15.0|     1448.0|         378.0|     949.0|     300.0|       0.8585|           45000.0|\n",
            "|  -114.65|   34.89|            17.0|     2556.0|         587.0|    1005.0|     401.0|       1.6991|           69100.0|\n",
            "|  -114.65|    33.6|            28.0|     1678.0|         322.0|     666.0|     256.0|       2.9653|           94900.0|\n",
            "|  -114.65|   32.79|            21.0|       44.0|          33.0|      64.0|      27.0|       0.8571|           25000.0|\n",
            "|  -114.66|   32.74|            17.0|     1388.0|         386.0|     775.0|     320.0|       1.2049|           44000.0|\n",
            "|  -114.67|   33.92|            17.0|       97.0|          24.0|      29.0|      15.0|       1.2656|           27500.0|\n",
            "+---------+--------+----------------+-----------+--------------+----------+----------+-------------+------------------+\n",
            "only showing top 20 rows\n",
            "\n"
          ]
        }
      ]
    },
    {
      "cell_type": "code",
      "metadata": {
        "id": "JUTXP7HSDdeg",
        "colab": {
          "base_uri": "https://localhost:8080/"
        },
        "outputId": "27fbfe9a-aa31-4e4e-b238-f4de64c17bae"
      },
      "source": [
        "#chekcing null values with respect to particular columns\n",
        "df.filter(\"median_income IS NULL\").show()"
      ],
      "execution_count": 20,
      "outputs": [
        {
          "output_type": "stream",
          "name": "stdout",
          "text": [
            "+---------+--------+----------------+-----------+--------------+----------+----------+-------------+------------------+\n",
            "|longitude|latitude|median_house_age|total_rooms|total_bedrooms|population|households|median_income|median_house_value|\n",
            "+---------+--------+----------------+-----------+--------------+----------+----------+-------------+------------------+\n",
            "+---------+--------+----------------+-----------+--------------+----------+----------+-------------+------------------+\n",
            "\n"
          ]
        }
      ]
    },
    {
      "cell_type": "code",
      "metadata": {
        "id": "al1LOeJIDdhv",
        "colab": {
          "base_uri": "https://localhost:8080/"
        },
        "outputId": "c1c8bb81-0bd5-46c9-ea71-72d2fa373426"
      },
      "source": [
        "##chekcing null values with multiple columns\n",
        "df.filter(\"median_income IS NULL AND households IS NULL\").show()"
      ],
      "execution_count": 21,
      "outputs": [
        {
          "output_type": "stream",
          "name": "stdout",
          "text": [
            "+---------+--------+----------------+-----------+--------------+----------+----------+-------------+------------------+\n",
            "|longitude|latitude|median_house_age|total_rooms|total_bedrooms|population|households|median_income|median_house_value|\n",
            "+---------+--------+----------------+-----------+--------------+----------+----------+-------------+------------------+\n",
            "+---------+--------+----------------+-----------+--------------+----------+----------+-------------+------------------+\n",
            "\n"
          ]
        }
      ]
    },
    {
      "cell_type": "code",
      "metadata": {
        "id": "Y8DdVCUPDdk7"
      },
      "source": [
        "#dropping nan values\n",
        "# df.na.drop(how='any'for dropping the row if any single value is null/'all' if all null values in row,\n",
        "#            thresh=int value for minimum non null values,\n",
        "#            subset=['column name' for reference])"
      ],
      "execution_count": 22,
      "outputs": []
    },
    {
      "cell_type": "code",
      "metadata": {
        "id": "qJOaviMsDdnq"
      },
      "source": [
        "#filling misiing value\n",
        "#df.na.fill('Value to be filles',subset=['columns to be filled'])"
      ],
      "execution_count": 23,
      "outputs": []
    },
    {
      "cell_type": "code",
      "metadata": {
        "id": "0dKjvKnK05B5"
      },
      "source": [
        "#missing value imputation\n",
        "# from pyspark.ml.feature import Imputer\n",
        "# imputer=Imputer(inputCols=['column names'],\n",
        "#                 outputCols=['{}_imputed'.format(c) for c in ['column names']]).setStrategy('mean') #mean imputation"
      ],
      "execution_count": 24,
      "outputs": []
    },
    {
      "cell_type": "code",
      "metadata": {
        "id": "hS394kJd1ep2"
      },
      "source": [
        "#fit_transform data\n",
        "# imputer.fit(df).transform(df)"
      ],
      "execution_count": 25,
      "outputs": []
    },
    {
      "cell_type": "code",
      "metadata": {
        "id": "1MeAoE3O1etM",
        "colab": {
          "base_uri": "https://localhost:8080/"
        },
        "outputId": "70525fa7-679e-4d95-dcf7-c90168cf4878"
      },
      "source": [
        "#filtering operations\n",
        "df.filter('median_house_value>=50000').show()"
      ],
      "execution_count": 29,
      "outputs": [
        {
          "output_type": "stream",
          "name": "stdout",
          "text": [
            "+---------+--------+----------------+-----------+--------------+----------+----------+-------------+------------------+\n",
            "|longitude|latitude|median_house_age|total_rooms|total_bedrooms|population|households|median_income|median_house_value|\n",
            "+---------+--------+----------------+-----------+--------------+----------+----------+-------------+------------------+\n",
            "|  -114.31|   34.19|            15.0|     5612.0|        1283.0|    1015.0|     472.0|       1.4936|           66900.0|\n",
            "|  -114.47|    34.4|            19.0|     7650.0|        1901.0|    1129.0|     463.0|         1.82|           80100.0|\n",
            "|  -114.56|   33.69|            17.0|      720.0|         174.0|     333.0|     117.0|       1.6509|           85700.0|\n",
            "|  -114.57|   33.64|            14.0|     1501.0|         337.0|     515.0|     226.0|       3.1917|           73400.0|\n",
            "|  -114.57|   33.57|            20.0|     1454.0|         326.0|     624.0|     262.0|        1.925|           65500.0|\n",
            "|  -114.58|   33.63|            29.0|     1387.0|         236.0|     671.0|     239.0|       3.3438|           74000.0|\n",
            "|  -114.58|   33.61|            25.0|     2907.0|         680.0|    1841.0|     633.0|       2.6768|           82400.0|\n",
            "|  -114.59|   33.61|            34.0|     4789.0|        1175.0|    3134.0|    1056.0|       2.1782|           58400.0|\n",
            "|   -114.6|   33.62|            16.0|     3741.0|         801.0|    2434.0|     824.0|       2.6797|           86500.0|\n",
            "|   -114.6|    33.6|            21.0|     1988.0|         483.0|    1182.0|     437.0|        1.625|           62000.0|\n",
            "|  -114.61|   34.83|            31.0|     2478.0|         464.0|    1346.0|     479.0|        3.212|           70400.0|\n",
            "|  -114.65|   34.89|            17.0|     2556.0|         587.0|    1005.0|     401.0|       1.6991|           69100.0|\n",
            "|  -114.65|    33.6|            28.0|     1678.0|         322.0|     666.0|     256.0|       2.9653|           94900.0|\n",
            "|  -114.73|   33.43|            24.0|      796.0|         243.0|     227.0|     139.0|       0.8964|           59200.0|\n",
            "|  -114.94|   34.55|            20.0|      350.0|          95.0|     119.0|      58.0|        1.625|           50000.0|\n",
            "|  -114.98|   33.82|            15.0|      644.0|         129.0|     137.0|      52.0|       3.2097|           71300.0|\n",
            "|  -115.22|   33.54|            18.0|     1706.0|         397.0|    3424.0|     283.0|        1.625|           53500.0|\n",
            "|  -115.32|   32.82|            34.0|      591.0|         139.0|     327.0|      89.0|       3.6528|          100000.0|\n",
            "|  -115.37|   32.82|            30.0|     1602.0|         322.0|    1130.0|     335.0|       3.5735|           71100.0|\n",
            "|  -115.37|   32.82|            14.0|     1276.0|         270.0|     867.0|     261.0|       1.9375|           80900.0|\n",
            "+---------+--------+----------------+-----------+--------------+----------+----------+-------------+------------------+\n",
            "only showing top 20 rows\n",
            "\n"
          ]
        }
      ]
    },
    {
      "cell_type": "code",
      "metadata": {
        "id": "kbJ9ibA11exD",
        "colab": {
          "base_uri": "https://localhost:8080/"
        },
        "outputId": "7f3bf525-6bbc-4b9c-9eab-e5738b967f24"
      },
      "source": [
        "#selecting specific columns based on filter condition\n",
        "df.filter('median_house_value>=50000').select(['median_income','median_house_age']).show()"
      ],
      "execution_count": 30,
      "outputs": [
        {
          "output_type": "stream",
          "name": "stdout",
          "text": [
            "+-------------+----------------+\n",
            "|median_income|median_house_age|\n",
            "+-------------+----------------+\n",
            "|       1.4936|            15.0|\n",
            "|         1.82|            19.0|\n",
            "|       1.6509|            17.0|\n",
            "|       3.1917|            14.0|\n",
            "|        1.925|            20.0|\n",
            "|       3.3438|            29.0|\n",
            "|       2.6768|            25.0|\n",
            "|       2.1782|            34.0|\n",
            "|       2.6797|            16.0|\n",
            "|        1.625|            21.0|\n",
            "|        3.212|            31.0|\n",
            "|       1.6991|            17.0|\n",
            "|       2.9653|            28.0|\n",
            "|       0.8964|            24.0|\n",
            "|        1.625|            20.0|\n",
            "|       3.2097|            15.0|\n",
            "|        1.625|            18.0|\n",
            "|       3.6528|            34.0|\n",
            "|       3.5735|            30.0|\n",
            "|       1.9375|            14.0|\n",
            "+-------------+----------------+\n",
            "only showing top 20 rows\n",
            "\n"
          ]
        }
      ]
    },
    {
      "cell_type": "code",
      "metadata": {
        "colab": {
          "base_uri": "https://localhost:8080/"
        },
        "id": "B2J03VAtWmsO",
        "outputId": "fd8cfec7-0c1c-4878-e608-bbd51e2c5e78"
      },
      "source": [
        "#filtering with multiple conditions\n",
        "df.filter('median_house_value>=50000 AND median_house_value<=75000').show()"
      ],
      "execution_count": 31,
      "outputs": [
        {
          "output_type": "stream",
          "name": "stdout",
          "text": [
            "+---------+--------+----------------+-----------+--------------+----------+----------+-------------+------------------+\n",
            "|longitude|latitude|median_house_age|total_rooms|total_bedrooms|population|households|median_income|median_house_value|\n",
            "+---------+--------+----------------+-----------+--------------+----------+----------+-------------+------------------+\n",
            "|  -114.31|   34.19|            15.0|     5612.0|        1283.0|    1015.0|     472.0|       1.4936|           66900.0|\n",
            "|  -114.57|   33.64|            14.0|     1501.0|         337.0|     515.0|     226.0|       3.1917|           73400.0|\n",
            "|  -114.57|   33.57|            20.0|     1454.0|         326.0|     624.0|     262.0|        1.925|           65500.0|\n",
            "|  -114.58|   33.63|            29.0|     1387.0|         236.0|     671.0|     239.0|       3.3438|           74000.0|\n",
            "|  -114.59|   33.61|            34.0|     4789.0|        1175.0|    3134.0|    1056.0|       2.1782|           58400.0|\n",
            "|   -114.6|    33.6|            21.0|     1988.0|         483.0|    1182.0|     437.0|        1.625|           62000.0|\n",
            "|  -114.61|   34.83|            31.0|     2478.0|         464.0|    1346.0|     479.0|        3.212|           70400.0|\n",
            "|  -114.65|   34.89|            17.0|     2556.0|         587.0|    1005.0|     401.0|       1.6991|           69100.0|\n",
            "|  -114.73|   33.43|            24.0|      796.0|         243.0|     227.0|     139.0|       0.8964|           59200.0|\n",
            "|  -114.94|   34.55|            20.0|      350.0|          95.0|     119.0|      58.0|        1.625|           50000.0|\n",
            "|  -114.98|   33.82|            15.0|      644.0|         129.0|     137.0|      52.0|       3.2097|           71300.0|\n",
            "|  -115.22|   33.54|            18.0|     1706.0|         397.0|    3424.0|     283.0|        1.625|           53500.0|\n",
            "|  -115.37|   32.82|            30.0|     1602.0|         322.0|    1130.0|     335.0|       3.5735|           71100.0|\n",
            "|  -115.37|   32.81|            32.0|      741.0|         191.0|     623.0|     169.0|       1.7604|           68600.0|\n",
            "|  -115.37|   32.81|            23.0|     1458.0|         294.0|     866.0|     275.0|       2.3594|           74300.0|\n",
            "|  -115.38|   32.82|            38.0|     1892.0|         394.0|    1175.0|     374.0|       1.9939|           65800.0|\n",
            "|  -115.38|   32.81|            35.0|     1263.0|         262.0|     950.0|     241.0|       1.8958|           67500.0|\n",
            "|  -115.49|   32.69|            17.0|     1960.0|         389.0|    1691.0|     356.0|        1.899|           64000.0|\n",
            "|  -115.49|   32.67|            25.0|     2322.0|         573.0|    2185.0|     602.0|        1.375|           70100.0|\n",
            "|  -115.51|   32.99|            20.0|     1402.0|         287.0|    1104.0|     317.0|       1.9088|           63700.0|\n",
            "+---------+--------+----------------+-----------+--------------+----------+----------+-------------+------------------+\n",
            "only showing top 20 rows\n",
            "\n"
          ]
        }
      ]
    },
    {
      "cell_type": "code",
      "metadata": {
        "colab": {
          "base_uri": "https://localhost:8080/"
        },
        "id": "DEF8099ZWmuz",
        "outputId": "ff196d6d-a444-4dd0-c917-5850733c6eff"
      },
      "source": [
        "#inverse filternig (~ is NOT)\n",
        "df.filter(~(df['median_house_value']>=50000)).show()"
      ],
      "execution_count": 34,
      "outputs": [
        {
          "output_type": "stream",
          "name": "stdout",
          "text": [
            "+---------+--------+----------------+-----------+--------------+----------+----------+-------------+------------------+\n",
            "|longitude|latitude|median_house_age|total_rooms|total_bedrooms|population|households|median_income|median_house_value|\n",
            "+---------+--------+----------------+-----------+--------------+----------+----------+-------------+------------------+\n",
            "|  -114.59|   34.83|            41.0|      812.0|         168.0|     375.0|     158.0|       1.7083|           48500.0|\n",
            "|   -114.6|   34.83|            46.0|     1497.0|         309.0|     787.0|     271.0|       2.1908|           48100.0|\n",
            "|  -114.61|   34.84|            48.0|     1291.0|         248.0|     580.0|     211.0|       2.1571|           48600.0|\n",
            "|  -114.63|   32.76|            15.0|     1448.0|         378.0|     949.0|     300.0|       0.8585|           45000.0|\n",
            "|  -114.65|   32.79|            21.0|       44.0|          33.0|      64.0|      27.0|       0.8571|           25000.0|\n",
            "|  -114.66|   32.74|            17.0|     1388.0|         386.0|     775.0|     320.0|       1.2049|           44000.0|\n",
            "|  -114.67|   33.92|            17.0|       97.0|          24.0|      29.0|      15.0|       1.2656|           27500.0|\n",
            "|  -114.68|   33.49|            20.0|     1491.0|         360.0|    1135.0|     303.0|       1.6395|           44400.0|\n",
            "|  -115.46|   33.19|            33.0|     1234.0|         373.0|     777.0|     298.0|          1.0|           40000.0|\n",
            "|  -115.51|   33.24|            32.0|     1995.0|         523.0|    1069.0|     410.0|       1.6552|           43300.0|\n",
            "|  -115.51|   33.12|            21.0|     1024.0|         218.0|     890.0|     232.0|        2.101|           46700.0|\n",
            "|  -115.52|   34.22|            30.0|      540.0|         136.0|     122.0|      63.0|       1.3333|           42500.0|\n",
            "|  -115.53|   34.91|            12.0|      807.0|         199.0|     246.0|     102.0|       2.5391|           40000.0|\n",
            "|  -115.73|   33.35|            23.0|     1586.0|         448.0|     338.0|     182.0|       1.2132|           30000.0|\n",
            "|   -115.8|   33.26|             2.0|       96.0|          18.0|      30.0|      16.0|       5.3374|           47500.0|\n",
            "|  -115.85|    34.2|            34.0|     3868.0|        1257.0|     890.0|     423.0|       1.3571|           41000.0|\n",
            "|  -115.88|   32.93|            15.0|      208.0|          49.0|      51.0|      20.0|       4.0208|           32500.0|\n",
            "|   -116.0|   32.74|            26.0|     1134.0|         280.0|     329.0|     158.0|       1.4338|           43900.0|\n",
            "|  -116.14|   34.22|            32.0|     3298.0|        1228.0|     763.0|     360.0|        1.875|           47800.0|\n",
            "|  -116.17|   33.66|            22.0|      639.0|         203.0|     664.0|     153.0|       1.9306|           47500.0|\n",
            "+---------+--------+----------------+-----------+--------------+----------+----------+-------------+------------------+\n",
            "only showing top 20 rows\n",
            "\n"
          ]
        }
      ]
    },
    {
      "cell_type": "code",
      "metadata": {
        "colab": {
          "base_uri": "https://localhost:8080/"
        },
        "id": "VRcK39C1WmxG",
        "outputId": "bd58a1c0-ffa3-4b31-abf9-a1adff821524"
      },
      "source": [
        "#groupby operations for aggregtions\n",
        "df.groupBy('median_house_age').mean('median_house_value').show()"
      ],
      "execution_count": 39,
      "outputs": [
        {
          "output_type": "stream",
          "name": "stdout",
          "text": [
            "+----------------+-----------------------+\n",
            "|median_house_age|avg(median_house_value)|\n",
            "+----------------+-----------------------+\n",
            "|             8.0|     190805.07303370786|\n",
            "|             7.0|       188445.059602649|\n",
            "|            49.0|      220667.6126126126|\n",
            "|            29.0|     195185.86363636365|\n",
            "|            47.0|     190064.61142857143|\n",
            "|            42.0|      199635.1103896104|\n",
            "|            44.0|     214909.50675675675|\n",
            "|            35.0|     205624.46242774566|\n",
            "|            18.0|     192074.71548117156|\n",
            "|            39.0|     206718.91390728476|\n",
            "|             1.0|               190250.0|\n",
            "|            34.0|     213061.61552028218|\n",
            "|            37.0|     209008.29977116705|\n",
            "|            25.0|      223097.2234273319|\n",
            "|            36.0|     208262.42237762237|\n",
            "|            41.0|      197328.9353448276|\n",
            "|             4.0|      230054.1055900621|\n",
            "|            23.0|      204621.7879581152|\n",
            "|            50.0|     222513.48214285713|\n",
            "|            45.0|     223464.74468085106|\n",
            "+----------------+-----------------------+\n",
            "only showing top 20 rows\n",
            "\n"
          ]
        }
      ]
    },
    {
      "cell_type": "code",
      "metadata": {
        "colab": {
          "base_uri": "https://localhost:8080/"
        },
        "id": "H7lIlQRrWmzu",
        "outputId": "6f5dd6d1-d8ed-4442-d31b-fcb02efc77ec"
      },
      "source": [
        "#Aggregate function without groupby\n",
        "df.agg({'median_house_age':'mean','median_house_value':'mean'}).show()"
      ],
      "execution_count": 41,
      "outputs": [
        {
          "output_type": "stream",
          "name": "stdout",
          "text": [
            "+-----------------------+---------------------+\n",
            "|avg(median_house_value)|avg(median_house_age)|\n",
            "+-----------------------+---------------------+\n",
            "|     207300.91235294117|    28.58935294117647|\n",
            "+-----------------------+---------------------+\n",
            "\n"
          ]
        }
      ]
    },
    {
      "cell_type": "code",
      "metadata": {
        "colab": {
          "base_uri": "https://localhost:8080/"
        },
        "id": "tVOKX2xsdtxT",
        "outputId": "2936c7bd-fdc6-4341-e0c5-a5c00e6d0e3b"
      },
      "source": [
        "df.drop('median_house_value').columns"
      ],
      "execution_count": 43,
      "outputs": [
        {
          "output_type": "execute_result",
          "data": {
            "text/plain": [
              "['longitude',\n",
              " 'latitude',\n",
              " 'median_house_age',\n",
              " 'total_rooms',\n",
              " 'total_bedrooms',\n",
              " 'population',\n",
              " 'households',\n",
              " 'median_income']"
            ]
          },
          "metadata": {},
          "execution_count": 43
        }
      ]
    },
    {
      "cell_type": "markdown",
      "metadata": {
        "id": "y97r4PaSkaVs"
      },
      "source": [
        "# **Creating ML Model**"
      ]
    },
    {
      "cell_type": "code",
      "metadata": {
        "id": "E03ftSPYhXnZ"
      },
      "source": [
        "#creating vector of Independent Features\n",
        "from pyspark.ml.feature import VectorAssembler\n",
        "featureassembler=VectorAssembler(inputCols=df.drop('median_house_value').columns,outputCol='IndependentFeature')"
      ],
      "execution_count": 45,
      "outputs": []
    },
    {
      "cell_type": "code",
      "metadata": {
        "colab": {
          "base_uri": "https://localhost:8080/"
        },
        "id": "z9PG82KLkk-r",
        "outputId": "c777682b-f872-4abd-be68-e113f21b42e7"
      },
      "source": [
        "output=featureassembler.transform(df)\n",
        "output.show()"
      ],
      "execution_count": 46,
      "outputs": [
        {
          "output_type": "stream",
          "name": "stdout",
          "text": [
            "+---------+--------+----------------+-----------+--------------+----------+----------+-------------+------------------+--------------------+\n",
            "|longitude|latitude|median_house_age|total_rooms|total_bedrooms|population|households|median_income|median_house_value|  IndependentFeature|\n",
            "+---------+--------+----------------+-----------+--------------+----------+----------+-------------+------------------+--------------------+\n",
            "|  -114.31|   34.19|            15.0|     5612.0|        1283.0|    1015.0|     472.0|       1.4936|           66900.0|[-114.31,34.19,15...|\n",
            "|  -114.47|    34.4|            19.0|     7650.0|        1901.0|    1129.0|     463.0|         1.82|           80100.0|[-114.47,34.4,19....|\n",
            "|  -114.56|   33.69|            17.0|      720.0|         174.0|     333.0|     117.0|       1.6509|           85700.0|[-114.56,33.69,17...|\n",
            "|  -114.57|   33.64|            14.0|     1501.0|         337.0|     515.0|     226.0|       3.1917|           73400.0|[-114.57,33.64,14...|\n",
            "|  -114.57|   33.57|            20.0|     1454.0|         326.0|     624.0|     262.0|        1.925|           65500.0|[-114.57,33.57,20...|\n",
            "|  -114.58|   33.63|            29.0|     1387.0|         236.0|     671.0|     239.0|       3.3438|           74000.0|[-114.58,33.63,29...|\n",
            "|  -114.58|   33.61|            25.0|     2907.0|         680.0|    1841.0|     633.0|       2.6768|           82400.0|[-114.58,33.61,25...|\n",
            "|  -114.59|   34.83|            41.0|      812.0|         168.0|     375.0|     158.0|       1.7083|           48500.0|[-114.59,34.83,41...|\n",
            "|  -114.59|   33.61|            34.0|     4789.0|        1175.0|    3134.0|    1056.0|       2.1782|           58400.0|[-114.59,33.61,34...|\n",
            "|   -114.6|   34.83|            46.0|     1497.0|         309.0|     787.0|     271.0|       2.1908|           48100.0|[-114.6,34.83,46....|\n",
            "|   -114.6|   33.62|            16.0|     3741.0|         801.0|    2434.0|     824.0|       2.6797|           86500.0|[-114.6,33.62,16....|\n",
            "|   -114.6|    33.6|            21.0|     1988.0|         483.0|    1182.0|     437.0|        1.625|           62000.0|[-114.6,33.6,21.0...|\n",
            "|  -114.61|   34.84|            48.0|     1291.0|         248.0|     580.0|     211.0|       2.1571|           48600.0|[-114.61,34.84,48...|\n",
            "|  -114.61|   34.83|            31.0|     2478.0|         464.0|    1346.0|     479.0|        3.212|           70400.0|[-114.61,34.83,31...|\n",
            "|  -114.63|   32.76|            15.0|     1448.0|         378.0|     949.0|     300.0|       0.8585|           45000.0|[-114.63,32.76,15...|\n",
            "|  -114.65|   34.89|            17.0|     2556.0|         587.0|    1005.0|     401.0|       1.6991|           69100.0|[-114.65,34.89,17...|\n",
            "|  -114.65|    33.6|            28.0|     1678.0|         322.0|     666.0|     256.0|       2.9653|           94900.0|[-114.65,33.6,28....|\n",
            "|  -114.65|   32.79|            21.0|       44.0|          33.0|      64.0|      27.0|       0.8571|           25000.0|[-114.65,32.79,21...|\n",
            "|  -114.66|   32.74|            17.0|     1388.0|         386.0|     775.0|     320.0|       1.2049|           44000.0|[-114.66,32.74,17...|\n",
            "|  -114.67|   33.92|            17.0|       97.0|          24.0|      29.0|      15.0|       1.2656|           27500.0|[-114.67,33.92,17...|\n",
            "+---------+--------+----------------+-----------+--------------+----------+----------+-------------+------------------+--------------------+\n",
            "only showing top 20 rows\n",
            "\n"
          ]
        }
      ]
    },
    {
      "cell_type": "code",
      "metadata": {
        "colab": {
          "base_uri": "https://localhost:8080/"
        },
        "id": "N6cK8M95lLwI",
        "outputId": "7c0d96c6-76e2-4e65-827d-5d78838f4699"
      },
      "source": [
        "output.columns"
      ],
      "execution_count": 47,
      "outputs": [
        {
          "output_type": "execute_result",
          "data": {
            "text/plain": [
              "['longitude',\n",
              " 'latitude',\n",
              " 'median_house_age',\n",
              " 'total_rooms',\n",
              " 'total_bedrooms',\n",
              " 'population',\n",
              " 'households',\n",
              " 'median_income',\n",
              " 'median_house_value',\n",
              " 'IndependentFeature']"
            ]
          },
          "metadata": {},
          "execution_count": 47
        }
      ]
    },
    {
      "cell_type": "code",
      "metadata": {
        "colab": {
          "base_uri": "https://localhost:8080/"
        },
        "id": "6iPwkloOlXjP",
        "outputId": "1eb38f67-c768-468b-a63f-57878dfd538c"
      },
      "source": [
        "#preparing data for ML model with vectorised independent feature and target feature\n",
        "final_data=output.select(['IndependentFeature','median_house_value'])\n",
        "final_data.show()"
      ],
      "execution_count": 48,
      "outputs": [
        {
          "output_type": "stream",
          "name": "stdout",
          "text": [
            "+--------------------+------------------+\n",
            "|  IndependentFeature|median_house_value|\n",
            "+--------------------+------------------+\n",
            "|[-114.31,34.19,15...|           66900.0|\n",
            "|[-114.47,34.4,19....|           80100.0|\n",
            "|[-114.56,33.69,17...|           85700.0|\n",
            "|[-114.57,33.64,14...|           73400.0|\n",
            "|[-114.57,33.57,20...|           65500.0|\n",
            "|[-114.58,33.63,29...|           74000.0|\n",
            "|[-114.58,33.61,25...|           82400.0|\n",
            "|[-114.59,34.83,41...|           48500.0|\n",
            "|[-114.59,33.61,34...|           58400.0|\n",
            "|[-114.6,34.83,46....|           48100.0|\n",
            "|[-114.6,33.62,16....|           86500.0|\n",
            "|[-114.6,33.6,21.0...|           62000.0|\n",
            "|[-114.61,34.84,48...|           48600.0|\n",
            "|[-114.61,34.83,31...|           70400.0|\n",
            "|[-114.63,32.76,15...|           45000.0|\n",
            "|[-114.65,34.89,17...|           69100.0|\n",
            "|[-114.65,33.6,28....|           94900.0|\n",
            "|[-114.65,32.79,21...|           25000.0|\n",
            "|[-114.66,32.74,17...|           44000.0|\n",
            "|[-114.67,33.92,17...|           27500.0|\n",
            "+--------------------+------------------+\n",
            "only showing top 20 rows\n",
            "\n"
          ]
        }
      ]
    },
    {
      "cell_type": "code",
      "metadata": {
        "id": "wubhw6zslkeM"
      },
      "source": [
        "#importing model and splitting final data\n",
        "from pyspark.ml.regression import LinearRegression\n",
        "train_data,test_data=final_data.randomSplit([0.75,0.25])"
      ],
      "execution_count": 49,
      "outputs": []
    },
    {
      "cell_type": "code",
      "metadata": {
        "id": "g6e-A3comLwQ"
      },
      "source": [
        "#training ML model\n",
        "lg=LinearRegression(featuresCol='IndependentFeature',labelCol='median_house_value')\n",
        "model=lg.fit(train_data)"
      ],
      "execution_count": 50,
      "outputs": []
    },
    {
      "cell_type": "code",
      "metadata": {
        "colab": {
          "base_uri": "https://localhost:8080/"
        },
        "id": "9Mq5Rj31mg0s",
        "outputId": "bedfc28e-7e5f-4539-dad0-3737b11174d1"
      },
      "source": [
        "#checking feature coefficients\n",
        "model.coefficients"
      ],
      "execution_count": 51,
      "outputs": [
        {
          "output_type": "execute_result",
          "data": {
            "text/plain": [
              "DenseVector([-43444.7778, -43184.1643, 1122.1953, -8.3036, 109.6006, -37.6536, 51.4003, 40341.7961])"
            ]
          },
          "metadata": {},
          "execution_count": 51
        }
      ]
    },
    {
      "cell_type": "code",
      "metadata": {
        "colab": {
          "base_uri": "https://localhost:8080/"
        },
        "id": "1XRUz-RLmlJt",
        "outputId": "e68f040c-5413-4547-b7ac-c6a53e4d0516"
      },
      "source": [
        "#checking model intercept\n",
        "model.intercept"
      ],
      "execution_count": 52,
      "outputs": [
        {
          "output_type": "execute_result",
          "data": {
            "text/plain": [
              "-3646044.6287322207"
            ]
          },
          "metadata": {},
          "execution_count": 52
        }
      ]
    },
    {
      "cell_type": "code",
      "metadata": {
        "colab": {
          "base_uri": "https://localhost:8080/"
        },
        "id": "7uAT4_8XmwsE",
        "outputId": "083af263-edbd-4e85-889e-a5fa93245065"
      },
      "source": [
        "#making predictions comparing actual vs predicted values\n",
        "pred=model.evaluate(test_data)\n",
        "pred.predictions.show()"
      ],
      "execution_count": 53,
      "outputs": [
        {
          "output_type": "stream",
          "name": "stderr",
          "text": [
            "/usr/local/lib/python3.7/dist-packages/pyspark/sql/context.py:127: FutureWarning: Deprecated in 3.0.0. Use SparkSession.builder.getOrCreate() instead.\n",
            "  FutureWarning\n"
          ]
        },
        {
          "output_type": "stream",
          "name": "stdout",
          "text": [
            "+--------------------+------------------+------------------+\n",
            "|  IndependentFeature|median_house_value|        prediction|\n",
            "+--------------------+------------------+------------------+\n",
            "|[-124.3,41.84,17....|          103600.0|  101247.982725773|\n",
            "|[-124.27,40.69,36...|           79000.0|154956.71310214698|\n",
            "|[-124.22,41.73,28...|           78300.0| 76375.95444387058|\n",
            "|[-124.19,40.73,21...|           90100.0| 165657.9826506097|\n",
            "|[-124.19,40.78,37...|           70000.0|116269.02683064109|\n",
            "|[-124.18,40.78,33...|           72200.0|128978.29266106244|\n",
            "|[-124.18,40.79,39...|           70500.0| 109015.7226417712|\n",
            "|[-124.17,40.62,32...|           86400.0|155361.55271163257|\n",
            "|[-124.16,40.78,50...|           85400.0|157478.92471799022|\n",
            "|[-124.16,41.74,15...|           69500.0| 59822.44033264229|\n",
            "|[-124.15,40.79,37...|           86400.0|158116.44137172634|\n",
            "|[-124.15,40.81,50...|           67500.0|112691.56034337543|\n",
            "|[-124.15,41.81,17...|          103100.0|-8398.164368740283|\n",
            "|[-124.14,40.67,23...|          130600.0|187914.69191474654|\n",
            "|[-124.14,41.06,32...|          143400.0|  141242.641637309|\n",
            "|[-124.13,40.8,31....|           81100.0|117258.55464182375|\n",
            "|[-124.1,40.47,52....|           55000.0|191951.45148344152|\n",
            "|[-124.1,40.73,33....|          111800.0|186019.37673031213|\n",
            "|[-124.08,40.06,17...|          135600.0|151491.65950358938|\n",
            "|[-124.08,40.86,18...|          150000.0| 83139.13776773121|\n",
            "+--------------------+------------------+------------------+\n",
            "only showing top 20 rows\n",
            "\n"
          ]
        }
      ]
    },
    {
      "cell_type": "code",
      "metadata": {
        "colab": {
          "base_uri": "https://localhost:8080/"
        },
        "id": "ga7rvfXgm9KB",
        "outputId": "075940e6-97cf-4944-970b-1fdfd33c1b4a"
      },
      "source": [
        "#Model evaluation with MAE and MSE\n",
        "pred.meanAbsoluteError,pred.meanSquaredError"
      ],
      "execution_count": 54,
      "outputs": [
        {
          "output_type": "execute_result",
          "data": {
            "text/plain": [
              "(51624.2805408719, 4946353942.8435135)"
            ]
          },
          "metadata": {},
          "execution_count": 54
        }
      ]
    },
    {
      "cell_type": "code",
      "metadata": {
        "id": "WY8wuyIjnays"
      },
      "source": [
        ""
      ],
      "execution_count": null,
      "outputs": []
    }
  ]
}